{
 "cells": [
  {
   "cell_type": "code",
   "execution_count": 1,
   "id": "e33350d3-a3ca-4b06-93e3-c9f2f856807e",
   "metadata": {},
   "outputs": [],
   "source": [
    "import xarray as xr\n",
    "import matplotlib.pylab as plt\n",
    "import numpy as np\n",
    "import pandas as pd\n",
    "import intake\n",
    "\n",
    "#each of the 3IFS runs (2.8km.4km,9km) is stored in one zarr\n",
    "ifs2_ds=xr.open_zarr('/work/bm1235/a270046/cycle2-sync/ddh_output/2.8km')\n",
    "ifs4_ds=xr.open_zarr('/work/bm1235/a270046/cycle2-sync/ddh_output/4km')\n",
    "ifs9_ds=xr.open_zarr('/work/bm1235/a270046/cycle2-sync/ddh_output/9km')"
   ]
  },
  {
   "cell_type": "code",
   "execution_count": 2,
   "id": "91b3300b-f738-4b64-937c-22ca99e3ec50",
   "metadata": {},
   "outputs": [
    {
     "name": "stdout",
     "output_type": "stream",
     "text": [
      "\n",
      "--> The keys in the returned dictionary of datasets are constructed as follows:\n",
      "\t'project.institution_id.source_id.experiment_id.simulation_id.realm.frequency.time_reduction.grid_label.level_type'\n"
     ]
    },
    {
     "data": {
      "text/html": [
       "\n",
       "<style>\n",
       "    /* Turns off some styling */\n",
       "    progress {\n",
       "        /* gets rid of default border in Firefox and Opera. */\n",
       "        border: none;\n",
       "        /* Needs to be in here for Safari polyfill so background images work as expected. */\n",
       "        background-size: auto;\n",
       "    }\n",
       "    .progress-bar-interrupted, .progress-bar-interrupted::-webkit-progress-bar {\n",
       "        background: #F44336;\n",
       "    }\n",
       "</style>\n"
      ],
      "text/plain": [
       "<IPython.core.display.HTML object>"
      ]
     },
     "metadata": {},
     "output_type": "display_data"
    },
    {
     "data": {
      "text/html": [
       "\n",
       "    <div>\n",
       "      <progress value='3' class='' max='3' style='width:300px; height:20px; vertical-align: middle;'></progress>\n",
       "      100.00% [3/3 00:00<00:00]\n",
       "    </div>\n",
       "    "
      ],
      "text/plain": [
       "<IPython.core.display.HTML object>"
      ]
     },
     "metadata": {},
     "output_type": "display_data"
    },
    {
     "data": {
      "text/plain": [
       "['nextGEMS.MPI-M.ICON-ESM.nextgems_cycle2.ngc2009.atm.2minute.inst.stations.ml',\n",
       " 'nextGEMS.MPI-M.ICON-ESM.nextgems_cycle2.ngc2012.atm.3minute.inst.stations.ml',\n",
       " 'nextGEMS.MPI-M.ICON-ESM.nextgems_cycle2.ngc2013.atm.3minute.inst.stations.ml']"
      ]
     },
     "execution_count": 2,
     "metadata": {},
     "output_type": "execute_result"
    }
   ],
   "source": [
    "#find ICON high-frequency data\n",
    "catalog_file = \"/work/ka1081/Catalogs/dyamond-nextgems.json\"\n",
    "cat = intake.open_esm_datastore(catalog_file)\n",
    "hits = cat.search(project=\"nextGEMS\", experiment_id=\"nextgems_cycle2\", frequency=[\"2minute\", \"3minute\"])\n",
    "dataset_dict = hits.to_dataset_dict(cdf_kwargs={\"chunks\": {\"time\": 1}})\n",
    "keys = list(dataset_dict.keys())\n",
    "keys"
   ]
  },
  {
   "cell_type": "code",
   "execution_count": 3,
   "id": "e7f4b382-b43a-4c36-a708-99c6430018e2",
   "metadata": {},
   "outputs": [
    {
     "data": {
      "text/plain": [
       "array(['BARBADOS CLOUD OBSERVATORY', 'EUREC4A_1', 'EUREC4A_2',\n",
       "       'EUREC4A_3', 'EUREC4A_4', 'EUREC4A_5', 'EUREC4A_6', 'EUREC4A_7',\n",
       "       'EUREC4A_8', 'EUREC4A_9', 'EUREC4A_10', 'CABAUW_NL',\n",
       "       'SODANKYLA_FIN', 'ARMS_OKL', 'LINDENBERG_GER', 'BARROW_USA',\n",
       "       'SUMMIT_DNK', 'DOMEC_ANTARC', 'PAYERNE_SWZ', 'ATTO_BRZ',\n",
       "       'MNSGERAIS_BRZ', 'BAHIA_BRZ', 'SAN_LUIS_MXC', 'ZACATECAS_MXC',\n",
       "       'SCOTLAND', 'BURGOS_SPN', 'HUELVA_SPN', 'PSTERN_SPRING',\n",
       "       'PSTERN_AUTUMN', 'PSTERN_MARCH'], dtype='<U26')"
      ]
     },
     "execution_count": 3,
     "metadata": {},
     "output_type": "execute_result"
    }
   ],
   "source": [
    "ifs2_ds.station_name.values"
   ]
  },
  {
   "cell_type": "code",
   "execution_count": 4,
   "id": "a0490973-75b7-48ff-93b7-579271dfc344",
   "metadata": {},
   "outputs": [
    {
     "data": {
      "text/plain": [
       "array(['EUREC4A 01', 'EUREC4A 02', 'EUREC4A 03', 'EUREC4A 04',\n",
       "       'EUREC4A 05', 'EUREC4A 06', 'EUREC4A 07', 'EUREC4A 08',\n",
       "       'EUREC4A 09', 'EUREC4A 10', 'EUREC4A 11', 'Lindenberg', 'Cabauw',\n",
       "       'Sodankyla Finland', 'ARMS OKL', 'Barrow Alaska',\n",
       "       'Summit Greenland', 'Dome C Antarctica', 'Payerne Switzerland',\n",
       "       'ATTO', 'IBER Minas Gerais/rad', 'IBER Bahia/wind',\n",
       "       'IBER San Luis Potosi Mex/wind', 'IBER Zacatecas Mex/rad',\n",
       "       'IBER Scotland/wind', 'IBER Burgos/wind', 'IBER Huelva/rad',\n",
       "       'MOSAIC Polarstern in spring (warm spells)',\n",
       "       'MOSAIC Polarstern in autumn (rain event)',\n",
       "       'MOSAIC Maximal ice production event in March', 'E2S OLDON (MET)',\n",
       "       'E2S OLUOL (MET)', 'E2S OLCLO (MET)', 'E2S OLETZ (ASI)',\n",
       "       'E2S BAZWI (ASI)', 'E2S OLEMS (ASI)', 'E2S EMSTE (ASI)',\n",
       "       'E2S PVRAS (ASI)', 'E2S VAREL (ASI)', 'E2S ESENS (ASI)',\n",
       "       'E2S AURIC (ASI)', 'E2S DOERP (ASI)', 'E2S BARSE (ASI)',\n",
       "       'E2S SOEGE (ASI)', 'E2S OLJET (MET)', 'E2S PVNOR (MET)',\n",
       "       'E2S LEEER (MET)', 'E2S WESTE (MET)', 'E2S ESREF (REF)'],\n",
       "      dtype='<U44')"
      ]
     },
     "execution_count": 4,
     "metadata": {},
     "output_type": "execute_result"
    }
   ],
   "source": [
    "icon5_ds = dataset_dict[keys[0]]\n",
    "icon10_ds = dataset_dict[keys[1]]\n",
    "icon10_tte_ds = dataset_dict[keys[2]]\n",
    "icon5_ds.station.values"
   ]
  },
  {
   "cell_type": "code",
   "execution_count": 5,
   "id": "b75ce471-51dd-4a88-847a-ae719cdf6390",
   "metadata": {},
   "outputs": [],
   "source": [
    "#to find out station id for IFS\n",
    "def find_station_id(s_name):\n",
    "    station_id = ifs2_ds.station[np.argwhere(ifs2_ds.station_name.values == s_name)[0][0]]\n",
    "    \n",
    "    return station_id"
   ]
  },
  {
   "cell_type": "code",
   "execution_count": 7,
   "id": "85addcb2-b419-491a-b676-ddd2a970e037",
   "metadata": {},
   "outputs": [],
   "source": [
    "#to find out level for ICON\n",
    "def find_nearest_id(z_ifc, value):\n",
    "    z_ifc = np.asarray(z_ifc)\n",
    "    idx = (np.abs(z_ifc - value)).argmin()\n",
    "    print(z_ifc[idx])\n",
    "    return idx\n",
    "\n",
    "#calculate horzontal wind speed\n",
    "def cal_wdsp(ds_in):\n",
    "    return np.sqrt(ds_in.u**2 + ds_in.v**2)"
   ]
  },
  {
   "cell_type": "code",
   "execution_count": 9,
   "id": "d4950335-1038-4e9d-a9cf-cad0e12b31a5",
   "metadata": {},
   "outputs": [
    {
     "name": "stdout",
     "output_type": "stream",
     "text": [
      "86.07225799560547\n"
     ]
    }
   ],
   "source": [
    "icon_station = 'Lindenberg'\n",
    "ifs_station = 'LINDENBERG_GER'\n",
    "#ifs\n",
    "station_id = find_station_id(ifs_station)\n",
    "\n",
    "ifs2_station = cal_wdsp(ifs2_ds.sel(station=station_id).isel(level=-4)).resample(time='D').mean('time')\n",
    "ifs4_station = cal_wdsp(ifs4_ds.sel(station=station_id).isel(level=-4)).resample(time='D').mean('time')\n",
    "ifs9_station = cal_wdsp(ifs9_ds.sel(station=station_id).isel(level=-4)).resample(time='D').mean('time')\n",
    "\n",
    "#ICON\n",
    "lev_ind = find_nearest_id(icon5_ds['level_height'].sel(station=icon_station), 100)\n",
    "\n",
    "icon5_station = cal_wdsp(icon5_ds.sel(station=icon_station).isel(level=lev_ind)).resample(time='D').mean('time')\n",
    "icon10_station = cal_wdsp(icon10_ds.sel(station=icon_station).isel(level=lev_ind)).resample(time='D').mean('time')\n",
    "icon10_tte_station = cal_wdsp(icon10_tte_ds.sel(station=icon_station).isel(level=lev_ind)).resample(time='D').mean('time')"
   ]
  },
  {
   "cell_type": "code",
   "execution_count": 11,
   "id": "7320f04a-65c6-4768-9f25-c04456247932",
   "metadata": {},
   "outputs": [
    {
     "data": {
      "text/plain": [
       "(0.0, 15.0)"
      ]
     },
     "execution_count": 11,
     "metadata": {},
     "output_type": "execute_result"
    },
    {
     "data": {
      "image/png": "[encoded data removed]",
      "text/plain": [
       "<Figure size 432x288 with 1 Axes>"
      ]
     },
     "metadata": {
      "needs_background": "light"
     },
     "output_type": "display_data"
    }
   ],
   "source": [
    "plt.rcParams.update({'font.size': 13})\n",
    "\n",
    "hist_2, bin_edges = np.histogram(ifs2_station.sel(time=slice('2020-02-22', '2020-06-07')), bins=np.arange(0,25,1), density=True)\n",
    "hist_4, bin_edges = np.histogram(ifs4_station.sel(time=slice('2020-02-22', '2020-06-07')), bins=np.arange(0,25,1), density=True)\n",
    "hist_9, bin_edges = np.histogram(ifs9_station.sel(time=slice('2020-02-22', '2020-06-07')), bins=np.arange(0,25,1), density=True)\n",
    "hist_5, bin_edges = np.histogram(icon5_station.sel(time=slice('2020-02-22', '2020-06-07')), bins=np.arange(0,25,1), density=True)\n",
    "hist_10, bin_edges = np.histogram(icon10_station.sel(time=slice('2020-02-22', '2020-06-07')), bins=np.arange(0,25,1), density=True)\n",
    "hist_10_tte, bin_edges = np.histogram(icon10_tte_station.sel(time=slice('2020-02-22', '2020-06-07')), bins=np.arange(0,25,1), density=True)\n",
    "\n",
    "bins= 0.5*(bin_edges[1:] + bin_edges[:-1])\n",
    "\n",
    "plt.plot( bins, hist_2, '-o',label='IFS-2.8km')\n",
    "plt.plot( bins, hist_4, '-o',label='IFS-4km')\n",
    "plt.plot( bins, hist_9, '-o',label='IFS-9km')\n",
    "plt.plot( bins, hist_5, '-o',label='ICON-5km')\n",
    "plt.plot( bins, hist_10, '-o',label='ICON-10km')\n",
    "plt.plot( bins, hist_10_tte, '-o',label='ICON-10km_tte')\n",
    "\n",
    "plt.legend()\n",
    "plt.xlim(0,15)"
   ]
  },
  {
   "cell_type": "code",
   "execution_count": null,
   "id": "a1bcfb7e-863a-4d7f-b16a-aeaffba5da96",
   "metadata": {},
   "outputs": [],
   "source": []
  }
 ],
 "metadata": {
  "kernelspec": {
   "display_name": "Python 3 (based on the module python3/2022.01)",
   "language": "python",
   "name": "python3_2022_01"
  },
  "language_info": {
   "codemirror_mode": {
    "name": "ipython",
    "version": 3
   },
   "file_extension": ".py",
   "mimetype": "text/x-python",
   "name": "python",
   "nbconvert_exporter": "python",
   "pygments_lexer": "ipython3",
   "version": "3.9.9"
  }
 },
 "nbformat": 4,
 "nbformat_minor": 5
}
